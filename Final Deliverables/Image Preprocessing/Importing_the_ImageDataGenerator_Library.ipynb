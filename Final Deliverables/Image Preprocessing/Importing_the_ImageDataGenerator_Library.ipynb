{
  "nbformat": 4,
  "nbformat_minor": 0,
  "metadata": {
    "colab": {
      "provenance": []
    },
    "kernelspec": {
      "name": "python3",
      "display_name": "Python 3"
    },
    "language_info": {
      "name": "python"
    }
  },
  "cells": [
    {
      "cell_type": "code",
      "execution_count": 1,
      "metadata": {
        "id": "W8sBRTFDx9vh"
      },
      "outputs": [],
      "source": [
        "import keras\n",
        "from keras.preprocessing.image import ImageDataGenerator"
      ]
    },
    {
      "cell_type": "code",
      "source": [],
      "metadata": {
        "id": "7gvCpfDH0MOD"
      },
      "execution_count": null,
      "outputs": []
    }
  ]
}